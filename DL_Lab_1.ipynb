{
 "cells": [
  {
   "cell_type": "code",
   "execution_count": 8,
   "id": "dec08729",
   "metadata": {
    "executionInfo": {
     "elapsed": 3726,
     "status": "ok",
     "timestamp": 1685034050569,
     "user": {
      "displayName": "TE_B_52_Siddesh Patankar",
      "userId": "08734077620444832225"
     },
     "user_tz": -330
    },
    "id": "dec08729"
   },
   "outputs": [],
   "source": [
    "import tensorflow as tf\n",
    "import pandas as pd\n",
    "from tensorflow.keras.datasets import boston_housing\n",
    "from sklearn import preprocessing"
   ]
  },
  {
   "cell_type": "code",
   "execution_count": 10,
   "id": "30fcb245",
   "metadata": {},
   "outputs": [
    {
     "data": {
      "text/plain": [
       "'2.16.1'"
      ]
     },
     "execution_count": 10,
     "metadata": {},
     "output_type": "execute_result"
    }
   ],
   "source": [
    "tf.__version__"
   ]
  },
  {
   "cell_type": "code",
   "execution_count": 11,
   "id": "d857ed5f",
   "metadata": {
    "colab": {
     "base_uri": "https://localhost:8080/"
    },
    "executionInfo": {
     "elapsed": 1222,
     "status": "ok",
     "timestamp": 1685034279071,
     "user": {
      "displayName": "TE_B_52_Siddesh Patankar",
      "userId": "08734077620444832225"
     },
     "user_tz": -330
    },
    "id": "d857ed5f",
    "outputId": "c14a5e50-a093-4c05-a7bb-131de20f8c70"
   },
   "outputs": [],
   "source": [
    "(train_x,train_y),(test_x,test_y)=boston_housing.load_data()"
   ]
  },
  {
   "cell_type": "code",
   "execution_count": null,
   "id": "9d569cf4",
   "metadata": {},
   "outputs": [],
   "source": []
  },
  {
   "cell_type": "code",
   "execution_count": 12,
   "id": "6a7f0219",
   "metadata": {
    "colab": {
     "base_uri": "https://localhost:8080/"
    },
    "executionInfo": {
     "elapsed": 750,
     "status": "ok",
     "timestamp": 1685034282170,
     "user": {
      "displayName": "TE_B_52_Siddesh Patankar",
      "userId": "08734077620444832225"
     },
     "user_tz": -330
    },
    "id": "6a7f0219",
    "outputId": "5db99bb9-6f24-4ae2-e8d9-eea94dd852b0",
    "scrolled": true
   },
   "outputs": [
    {
     "data": {
      "text/plain": [
       "((array([[1.23247e+00, 0.00000e+00, 8.14000e+00, ..., 2.10000e+01,\n",
       "          3.96900e+02, 1.87200e+01],\n",
       "         [2.17700e-02, 8.25000e+01, 2.03000e+00, ..., 1.47000e+01,\n",
       "          3.95380e+02, 3.11000e+00],\n",
       "         [4.89822e+00, 0.00000e+00, 1.81000e+01, ..., 2.02000e+01,\n",
       "          3.75520e+02, 3.26000e+00],\n",
       "         ...,\n",
       "         [3.46600e-02, 3.50000e+01, 6.06000e+00, ..., 1.69000e+01,\n",
       "          3.62250e+02, 7.83000e+00],\n",
       "         [2.14918e+00, 0.00000e+00, 1.95800e+01, ..., 1.47000e+01,\n",
       "          2.61950e+02, 1.57900e+01],\n",
       "         [1.43900e-02, 6.00000e+01, 2.93000e+00, ..., 1.56000e+01,\n",
       "          3.76700e+02, 4.38000e+00]]),\n",
       "  array([15.2, 42.3, 50. , 21.1, 17.7, 18.5, 11.3, 15.6, 15.6, 14.4, 12.1,\n",
       "         17.9, 23.1, 19.9, 15.7,  8.8, 50. , 22.5, 24.1, 27.5, 10.9, 30.8,\n",
       "         32.9, 24. , 18.5, 13.3, 22.9, 34.7, 16.6, 17.5, 22.3, 16.1, 14.9,\n",
       "         23.1, 34.9, 25. , 13.9, 13.1, 20.4, 20. , 15.2, 24.7, 22.2, 16.7,\n",
       "         12.7, 15.6, 18.4, 21. , 30.1, 15.1, 18.7,  9.6, 31.5, 24.8, 19.1,\n",
       "         22. , 14.5, 11. , 32. , 29.4, 20.3, 24.4, 14.6, 19.5, 14.1, 14.3,\n",
       "         15.6, 10.5,  6.3, 19.3, 19.3, 13.4, 36.4, 17.8, 13.5, 16.5,  8.3,\n",
       "         14.3, 16. , 13.4, 28.6, 43.5, 20.2, 22. , 23. , 20.7, 12.5, 48.5,\n",
       "         14.6, 13.4, 23.7, 50. , 21.7, 39.8, 38.7, 22.2, 34.9, 22.5, 31.1,\n",
       "         28.7, 46. , 41.7, 21. , 26.6, 15. , 24.4, 13.3, 21.2, 11.7, 21.7,\n",
       "         19.4, 50. , 22.8, 19.7, 24.7, 36.2, 14.2, 18.9, 18.3, 20.6, 24.6,\n",
       "         18.2,  8.7, 44. , 10.4, 13.2, 21.2, 37. , 30.7, 22.9, 20. , 19.3,\n",
       "         31.7, 32. , 23.1, 18.8, 10.9, 50. , 19.6,  5. , 14.4, 19.8, 13.8,\n",
       "         19.6, 23.9, 24.5, 25. , 19.9, 17.2, 24.6, 13.5, 26.6, 21.4, 11.9,\n",
       "         22.6, 19.6,  8.5, 23.7, 23.1, 22.4, 20.5, 23.6, 18.4, 35.2, 23.1,\n",
       "         27.9, 20.6, 23.7, 28. , 13.6, 27.1, 23.6, 20.6, 18.2, 21.7, 17.1,\n",
       "          8.4, 25.3, 13.8, 22.2, 18.4, 20.7, 31.6, 30.5, 20.3,  8.8, 19.2,\n",
       "         19.4, 23.1, 23. , 14.8, 48.8, 22.6, 33.4, 21.1, 13.6, 32.2, 13.1,\n",
       "         23.4, 18.9, 23.9, 11.8, 23.3, 22.8, 19.6, 16.7, 13.4, 22.2, 20.4,\n",
       "         21.8, 26.4, 14.9, 24.1, 23.8, 12.3, 29.1, 21. , 19.5, 23.3, 23.8,\n",
       "         17.8, 11.5, 21.7, 19.9, 25. , 33.4, 28.5, 21.4, 24.3, 27.5, 33.1,\n",
       "         16.2, 23.3, 48.3, 22.9, 22.8, 13.1, 12.7, 22.6, 15. , 15.3, 10.5,\n",
       "         24. , 18.5, 21.7, 19.5, 33.2, 23.2,  5. , 19.1, 12.7, 22.3, 10.2,\n",
       "         13.9, 16.3, 17. , 20.1, 29.9, 17.2, 37.3, 45.4, 17.8, 23.2, 29. ,\n",
       "         22. , 18. , 17.4, 34.6, 20.1, 25. , 15.6, 24.8, 28.2, 21.2, 21.4,\n",
       "         23.8, 31. , 26.2, 17.4, 37.9, 17.5, 20. ,  8.3, 23.9,  8.4, 13.8,\n",
       "          7.2, 11.7, 17.1, 21.6, 50. , 16.1, 20.4, 20.6, 21.4, 20.6, 36.5,\n",
       "          8.5, 24.8, 10.8, 21.9, 17.3, 18.9, 36.2, 14.9, 18.2, 33.3, 21.8,\n",
       "         19.7, 31.6, 24.8, 19.4, 22.8,  7.5, 44.8, 16.8, 18.7, 50. , 50. ,\n",
       "         19.5, 20.1, 50. , 17.2, 20.8, 19.3, 41.3, 20.4, 20.5, 13.8, 16.5,\n",
       "         23.9, 20.6, 31.5, 23.3, 16.8, 14. , 33.8, 36.1, 12.8, 18.3, 18.7,\n",
       "         19.1, 29. , 30.1, 50. , 50. , 22. , 11.9, 37.6, 50. , 22.7, 20.8,\n",
       "         23.5, 27.9, 50. , 19.3, 23.9, 22.6, 15.2, 21.7, 19.2, 43.8, 20.3,\n",
       "         33.2, 19.9, 22.5, 32.7, 22. , 17.1, 19. , 15. , 16.1, 25.1, 23.7,\n",
       "         28.7, 37.2, 22.6, 16.4, 25. , 29.8, 22.1, 17.4, 18.1, 30.3, 17.5,\n",
       "         24.7, 12.6, 26.5, 28.7, 13.3, 10.4, 24.4, 23. , 20. , 17.8,  7. ,\n",
       "         11.8, 24.4, 13.8, 19.4, 25.2, 19.4, 19.4, 29.1])),\n",
       " (array([[1.80846e+01, 0.00000e+00, 1.81000e+01, ..., 2.02000e+01,\n",
       "          2.72500e+01, 2.90500e+01],\n",
       "         [1.23290e-01, 0.00000e+00, 1.00100e+01, ..., 1.78000e+01,\n",
       "          3.94950e+02, 1.62100e+01],\n",
       "         [5.49700e-02, 0.00000e+00, 5.19000e+00, ..., 2.02000e+01,\n",
       "          3.96900e+02, 9.74000e+00],\n",
       "         ...,\n",
       "         [1.83377e+00, 0.00000e+00, 1.95800e+01, ..., 1.47000e+01,\n",
       "          3.89610e+02, 1.92000e+00],\n",
       "         [3.58090e-01, 0.00000e+00, 6.20000e+00, ..., 1.74000e+01,\n",
       "          3.91700e+02, 9.71000e+00],\n",
       "         [2.92400e+00, 0.00000e+00, 1.95800e+01, ..., 1.47000e+01,\n",
       "          2.40160e+02, 9.81000e+00]]),\n",
       "  array([ 7.2, 18.8, 19. , 27. , 22.2, 24.5, 31.2, 22.9, 20.5, 23.2, 18.6,\n",
       "         14.5, 17.8, 50. , 20.8, 24.3, 24.2, 19.8, 19.1, 22.7, 12. , 10.2,\n",
       "         20. , 18.5, 20.9, 23. , 27.5, 30.1,  9.5, 22. , 21.2, 14.1, 33.1,\n",
       "         23.4, 20.1,  7.4, 15.4, 23.8, 20.1, 24.5, 33. , 28.4, 14.1, 46.7,\n",
       "         32.5, 29.6, 28.4, 19.8, 20.2, 25. , 35.4, 20.3,  9.7, 14.5, 34.9,\n",
       "         26.6,  7.2, 50. , 32.4, 21.6, 29.8, 13.1, 27.5, 21.2, 23.1, 21.9,\n",
       "         13. , 23.2,  8.1,  5.6, 21.7, 29.6, 19.6,  7. , 26.4, 18.9, 20.9,\n",
       "         28.1, 35.4, 10.2, 24.3, 43.1, 17.6, 15.4, 16.2, 27.1, 21.4, 21.5,\n",
       "         22.4, 25. , 16.6, 18.6, 22. , 42.8, 35.1, 21.5, 36. , 21.9, 24.1,\n",
       "         50. , 26.7, 25. ])))"
      ]
     },
     "execution_count": 12,
     "metadata": {},
     "output_type": "execute_result"
    }
   ],
   "source": [
    "df = boston_housing.load_data()\n",
    "df"
   ]
  },
  {
   "cell_type": "code",
   "execution_count": 13,
   "id": "c664161b",
   "metadata": {
    "colab": {
     "base_uri": "https://localhost:8080/"
    },
    "executionInfo": {
     "elapsed": 893,
     "status": "ok",
     "timestamp": 1685034562446,
     "user": {
      "displayName": "TE_B_52_Siddesh Patankar",
      "userId": "08734077620444832225"
     },
     "user_tz": -330
    },
    "id": "c664161b",
    "outputId": "0c44ac14-0469-49e6-cc25-5d87784fc127"
   },
   "outputs": [
    {
     "name": "stdout",
     "output_type": "stream",
     "text": [
      "train shape:  (404, 13)\n",
      "test shape:  (102, 13)\n",
      "actual train output: (404,)\n",
      "actual test output: (102,)\n"
     ]
    }
   ],
   "source": [
    "print(\"train shape: \",train_x.shape)\n",
    "print(\"test shape: \",test_x.shape)\n",
    "print(\"actual train output:\",train_y.shape)\n",
    "print(\"actual test output:\",test_y.shape)"
   ]
  },
  {
   "cell_type": "code",
   "execution_count": 14,
   "id": "3e6cd10e",
   "metadata": {
    "executionInfo": {
     "elapsed": 1321,
     "status": "ok",
     "timestamp": 1685034323579,
     "user": {
      "displayName": "TE_B_52_Siddesh Patankar",
      "userId": "08734077620444832225"
     },
     "user_tz": -330
    },
    "id": "3e6cd10e"
   },
   "outputs": [],
   "source": [
    "#normalization for preprocessing\n",
    "train_x=preprocessing.normalize(train_x)\n",
    "test_x=preprocessing.normalize(test_x)"
   ]
  },
  {
   "cell_type": "code",
   "execution_count": 17,
   "id": "c1c3fcb3",
   "metadata": {
    "executionInfo": {
     "elapsed": 524,
     "status": "ok",
     "timestamp": 1685037582134,
     "user": {
      "displayName": "TE_B_52_Siddesh Patankar",
      "userId": "08734077620444832225"
     },
     "user_tz": -330
    },
    "id": "c1c3fcb3"
   },
   "outputs": [],
   "source": [
    "from tensorflow.keras.models import Sequential\n",
    "from tensorflow.keras.layers import Dense\n",
    "\n",
    "def HousePricePredictionModel():  \n",
    "    model = Sequential()\n",
    "    model.add(Dense(128, activation='relu', input_shape=(train_x.shape[1],)))\n",
    "    model.add(Dense(64, activation='relu'))\n",
    "    model.add(Dense(32, activation='relu'))\n",
    "    model.add(Dense(1))\n",
    "    model.compile(optimizer='adam', loss='mse', metrics=['mae'])\n",
    "    return model\n"
   ]
  },
  {
   "cell_type": "code",
   "execution_count": 18,
   "id": "d55cfd2b",
   "metadata": {
    "executionInfo": {
     "elapsed": 4,
     "status": "ok",
     "timestamp": 1685037584754,
     "user": {
      "displayName": "TE_B_52_Siddesh Patankar",
      "userId": "08734077620444832225"
     },
     "user_tz": -330
    },
    "id": "d55cfd2b"
   },
   "outputs": [],
   "source": [
    "import numpy as np\n",
    "k=4\n",
    "num_val_samples=len(train_x)\n",
    "num_epochs=100\n",
    "all_scores=[]"
   ]
  },
  {
   "cell_type": "code",
   "execution_count": 20,
   "id": "d96f40b9",
   "metadata": {
    "colab": {
     "base_uri": "https://localhost:8080/"
    },
    "executionInfo": {
     "elapsed": 67695,
     "status": "ok",
     "timestamp": 1685037652446,
     "user": {
      "displayName": "TE_B_52_Siddesh Patankar",
      "userId": "08734077620444832225"
     },
     "user_tz": -330
    },
    "id": "d96f40b9",
    "outputId": "ba18ddb9-1810-41f6-9b3e-0ca7d08ba37a"
   },
   "outputs": [
    {
     "name": "stderr",
     "output_type": "stream",
     "text": [
      "C:\\Users\\HP\\AppData\\Local\\Programs\\Python\\Python311\\Lib\\site-packages\\keras\\src\\layers\\core\\dense.py:87: UserWarning: Do not pass an `input_shape`/`input_dim` argument to a layer. When using Sequential models, prefer using an `Input(shape)` object as the first layer in the model instead.\n",
      "  super().__init__(activity_regularizer=activity_regularizer, **kwargs)\n"
     ]
    },
    {
     "name": "stdout",
     "output_type": "stream",
     "text": [
      "Epoch 1/100\n",
      "\u001b[1m404/404\u001b[0m \u001b[32m━━━━━━━━━━━━━━━━━━━━\u001b[0m\u001b[37m\u001b[0m \u001b[1m5s\u001b[0m 4ms/step - loss: 223.8474 - mae: 11.7052 - val_loss: 62.5088 - val_mae: 5.9401\n",
      "Epoch 2/100\n",
      "\u001b[1m404/404\u001b[0m \u001b[32m━━━━━━━━━━━━━━━━━━━━\u001b[0m\u001b[37m\u001b[0m \u001b[1m1s\u001b[0m 3ms/step - loss: 82.6433 - mae: 6.7508 - val_loss: 65.9291 - val_mae: 5.7413\n",
      "Epoch 3/100\n",
      "\u001b[1m404/404\u001b[0m \u001b[32m━━━━━━━━━━━━━━━━━━━━\u001b[0m\u001b[37m\u001b[0m \u001b[1m1s\u001b[0m 2ms/step - loss: 55.9768 - mae: 5.1827 - val_loss: 57.8203 - val_mae: 5.4599\n",
      "Epoch 4/100\n",
      "\u001b[1m404/404\u001b[0m \u001b[32m━━━━━━━━━━━━━━━━━━━━\u001b[0m\u001b[37m\u001b[0m \u001b[1m2s\u001b[0m 3ms/step - loss: 60.8269 - mae: 5.1861 - val_loss: 53.3469 - val_mae: 5.3350\n",
      "Epoch 5/100\n",
      "\u001b[1m404/404\u001b[0m \u001b[32m━━━━━━━━━━━━━━━━━━━━\u001b[0m\u001b[37m\u001b[0m \u001b[1m1s\u001b[0m 3ms/step - loss: 52.9418 - mae: 5.0459 - val_loss: 53.5714 - val_mae: 5.2390\n",
      "Epoch 6/100\n",
      "\u001b[1m404/404\u001b[0m \u001b[32m━━━━━━━━━━━━━━━━━━━━\u001b[0m\u001b[37m\u001b[0m \u001b[1m1s\u001b[0m 3ms/step - loss: 65.6258 - mae: 5.6589 - val_loss: 51.5137 - val_mae: 5.1177\n",
      "Epoch 7/100\n",
      "\u001b[1m404/404\u001b[0m \u001b[32m━━━━━━━━━━━━━━━━━━━━\u001b[0m\u001b[37m\u001b[0m \u001b[1m1s\u001b[0m 3ms/step - loss: 59.8973 - mae: 5.2809 - val_loss: 52.8266 - val_mae: 5.5622\n",
      "Epoch 8/100\n",
      "\u001b[1m404/404\u001b[0m \u001b[32m━━━━━━━━━━━━━━━━━━━━\u001b[0m\u001b[37m\u001b[0m \u001b[1m1s\u001b[0m 3ms/step - loss: 55.9928 - mae: 5.2499 - val_loss: 47.3965 - val_mae: 4.8356\n",
      "Epoch 9/100\n",
      "\u001b[1m404/404\u001b[0m \u001b[32m━━━━━━━━━━━━━━━━━━━━\u001b[0m\u001b[37m\u001b[0m \u001b[1m1s\u001b[0m 3ms/step - loss: 53.9270 - mae: 5.0835 - val_loss: 44.3227 - val_mae: 4.8542\n",
      "Epoch 10/100\n",
      "\u001b[1m404/404\u001b[0m \u001b[32m━━━━━━━━━━━━━━━━━━━━\u001b[0m\u001b[37m\u001b[0m \u001b[1m1s\u001b[0m 3ms/step - loss: 46.9923 - mae: 4.7605 - val_loss: 44.6752 - val_mae: 4.9833\n",
      "Epoch 11/100\n",
      "\u001b[1m404/404\u001b[0m \u001b[32m━━━━━━━━━━━━━━━━━━━━\u001b[0m\u001b[37m\u001b[0m \u001b[1m3s\u001b[0m 3ms/step - loss: 42.9415 - mae: 4.6418 - val_loss: 43.2798 - val_mae: 4.9047\n",
      "Epoch 12/100\n",
      "\u001b[1m404/404\u001b[0m \u001b[32m━━━━━━━━━━━━━━━━━━━━\u001b[0m\u001b[37m\u001b[0m \u001b[1m3s\u001b[0m 3ms/step - loss: 42.1904 - mae: 4.4198 - val_loss: 37.7684 - val_mae: 4.2623\n",
      "Epoch 13/100\n",
      "\u001b[1m404/404\u001b[0m \u001b[32m━━━━━━━━━━━━━━━━━━━━\u001b[0m\u001b[37m\u001b[0m \u001b[1m1s\u001b[0m 2ms/step - loss: 39.8297 - mae: 4.2726 - val_loss: 56.5195 - val_mae: 5.3854\n",
      "Epoch 14/100\n",
      "\u001b[1m404/404\u001b[0m \u001b[32m━━━━━━━━━━━━━━━━━━━━\u001b[0m\u001b[37m\u001b[0m \u001b[1m1s\u001b[0m 3ms/step - loss: 33.9312 - mae: 4.1241 - val_loss: 36.4227 - val_mae: 4.1693\n",
      "Epoch 15/100\n",
      "\u001b[1m404/404\u001b[0m \u001b[32m━━━━━━━━━━━━━━━━━━━━\u001b[0m\u001b[37m\u001b[0m \u001b[1m1s\u001b[0m 2ms/step - loss: 41.2649 - mae: 4.3684 - val_loss: 33.6916 - val_mae: 4.2248\n",
      "Epoch 16/100\n",
      "\u001b[1m404/404\u001b[0m \u001b[32m━━━━━━━━━━━━━━━━━━━━\u001b[0m\u001b[37m\u001b[0m \u001b[1m2s\u001b[0m 3ms/step - loss: 36.9657 - mae: 4.2310 - val_loss: 36.7174 - val_mae: 4.8928\n",
      "Epoch 17/100\n",
      "\u001b[1m404/404\u001b[0m \u001b[32m━━━━━━━━━━━━━━━━━━━━\u001b[0m\u001b[37m\u001b[0m \u001b[1m3s\u001b[0m 3ms/step - loss: 34.8443 - mae: 4.3219 - val_loss: 29.8844 - val_mae: 4.0201\n",
      "Epoch 18/100\n",
      "\u001b[1m404/404\u001b[0m \u001b[32m━━━━━━━━━━━━━━━━━━━━\u001b[0m\u001b[37m\u001b[0m \u001b[1m1s\u001b[0m 3ms/step - loss: 31.5900 - mae: 3.9259 - val_loss: 29.4101 - val_mae: 4.0217\n",
      "Epoch 19/100\n",
      "\u001b[1m404/404\u001b[0m \u001b[32m━━━━━━━━━━━━━━━━━━━━\u001b[0m\u001b[37m\u001b[0m \u001b[1m1s\u001b[0m 3ms/step - loss: 29.4110 - mae: 3.9066 - val_loss: 32.1546 - val_mae: 3.9096\n",
      "Epoch 20/100\n",
      "\u001b[1m404/404\u001b[0m \u001b[32m━━━━━━━━━━━━━━━━━━━━\u001b[0m\u001b[37m\u001b[0m \u001b[1m1s\u001b[0m 3ms/step - loss: 33.5249 - mae: 4.0658 - val_loss: 36.8343 - val_mae: 4.2033\n",
      "Epoch 21/100\n",
      "\u001b[1m404/404\u001b[0m \u001b[32m━━━━━━━━━━━━━━━━━━━━\u001b[0m\u001b[37m\u001b[0m \u001b[1m1s\u001b[0m 3ms/step - loss: 22.5063 - mae: 3.5096 - val_loss: 42.8224 - val_mae: 5.4960\n",
      "Epoch 22/100\n",
      "\u001b[1m404/404\u001b[0m \u001b[32m━━━━━━━━━━━━━━━━━━━━\u001b[0m\u001b[37m\u001b[0m \u001b[1m1s\u001b[0m 3ms/step - loss: 33.5754 - mae: 4.1508 - val_loss: 28.4127 - val_mae: 4.0741\n",
      "Epoch 23/100\n",
      "\u001b[1m404/404\u001b[0m \u001b[32m━━━━━━━━━━━━━━━━━━━━\u001b[0m\u001b[37m\u001b[0m \u001b[1m1s\u001b[0m 3ms/step - loss: 20.7547 - mae: 3.4283 - val_loss: 33.8206 - val_mae: 4.6292\n",
      "Epoch 24/100\n",
      "\u001b[1m404/404\u001b[0m \u001b[32m━━━━━━━━━━━━━━━━━━━━\u001b[0m\u001b[37m\u001b[0m \u001b[1m1s\u001b[0m 3ms/step - loss: 23.1563 - mae: 3.6767 - val_loss: 41.7204 - val_mae: 4.6948\n",
      "Epoch 25/100\n",
      "\u001b[1m404/404\u001b[0m \u001b[32m━━━━━━━━━━━━━━━━━━━━\u001b[0m\u001b[37m\u001b[0m \u001b[1m2s\u001b[0m 2ms/step - loss: 20.8195 - mae: 3.2497 - val_loss: 49.3318 - val_mae: 5.0510\n",
      "Epoch 26/100\n",
      "\u001b[1m404/404\u001b[0m \u001b[32m━━━━━━━━━━━━━━━━━━━━\u001b[0m\u001b[37m\u001b[0m \u001b[1m1s\u001b[0m 3ms/step - loss: 25.4323 - mae: 3.6077 - val_loss: 30.0159 - val_mae: 3.9082\n",
      "Epoch 27/100\n",
      "\u001b[1m404/404\u001b[0m \u001b[32m━━━━━━━━━━━━━━━━━━━━\u001b[0m\u001b[37m\u001b[0m \u001b[1m1s\u001b[0m 3ms/step - loss: 23.8470 - mae: 3.2997 - val_loss: 41.3589 - val_mae: 4.5134\n",
      "Epoch 28/100\n",
      "\u001b[1m404/404\u001b[0m \u001b[32m━━━━━━━━━━━━━━━━━━━━\u001b[0m\u001b[37m\u001b[0m \u001b[1m1s\u001b[0m 3ms/step - loss: 16.4601 - mae: 3.0341 - val_loss: 28.9637 - val_mae: 3.7770\n",
      "Epoch 29/100\n",
      "\u001b[1m404/404\u001b[0m \u001b[32m━━━━━━━━━━━━━━━━━━━━\u001b[0m\u001b[37m\u001b[0m \u001b[1m2s\u001b[0m 5ms/step - loss: 20.1213 - mae: 3.2550 - val_loss: 34.2094 - val_mae: 4.1827\n",
      "Epoch 30/100\n",
      "\u001b[1m404/404\u001b[0m \u001b[32m━━━━━━━━━━━━━━━━━━━━\u001b[0m\u001b[37m\u001b[0m \u001b[1m2s\u001b[0m 3ms/step - loss: 26.9658 - mae: 3.6091 - val_loss: 27.5167 - val_mae: 3.7197\n",
      "Epoch 31/100\n",
      "\u001b[1m404/404\u001b[0m \u001b[32m━━━━━━━━━━━━━━━━━━━━\u001b[0m\u001b[37m\u001b[0m \u001b[1m3s\u001b[0m 4ms/step - loss: 19.4187 - mae: 3.1400 - val_loss: 29.0503 - val_mae: 3.8381\n",
      "Epoch 32/100\n",
      "\u001b[1m404/404\u001b[0m \u001b[32m━━━━━━━━━━━━━━━━━━━━\u001b[0m\u001b[37m\u001b[0m \u001b[1m1s\u001b[0m 3ms/step - loss: 15.6277 - mae: 3.0151 - val_loss: 32.4877 - val_mae: 4.2093\n",
      "Epoch 33/100\n",
      "\u001b[1m404/404\u001b[0m \u001b[32m━━━━━━━━━━━━━━━━━━━━\u001b[0m\u001b[37m\u001b[0m \u001b[1m2s\u001b[0m 3ms/step - loss: 21.9296 - mae: 3.3115 - val_loss: 30.5110 - val_mae: 3.8171\n",
      "Epoch 34/100\n",
      "\u001b[1m404/404\u001b[0m \u001b[32m━━━━━━━━━━━━━━━━━━━━\u001b[0m\u001b[37m\u001b[0m \u001b[1m1s\u001b[0m 2ms/step - loss: 18.0710 - mae: 2.9913 - val_loss: 29.2851 - val_mae: 3.7780\n",
      "Epoch 35/100\n",
      "\u001b[1m404/404\u001b[0m \u001b[32m━━━━━━━━━━━━━━━━━━━━\u001b[0m\u001b[37m\u001b[0m \u001b[1m1s\u001b[0m 3ms/step - loss: 23.7147 - mae: 3.4244 - val_loss: 31.7420 - val_mae: 3.9712\n",
      "Epoch 36/100\n",
      "\u001b[1m404/404\u001b[0m \u001b[32m━━━━━━━━━━━━━━━━━━━━\u001b[0m\u001b[37m\u001b[0m \u001b[1m1s\u001b[0m 3ms/step - loss: 16.4402 - mae: 2.9552 - val_loss: 33.4117 - val_mae: 3.9973\n",
      "Epoch 37/100\n",
      "\u001b[1m404/404\u001b[0m \u001b[32m━━━━━━━━━━━━━━━━━━━━\u001b[0m\u001b[37m\u001b[0m \u001b[1m1s\u001b[0m 3ms/step - loss: 17.7307 - mae: 3.0192 - val_loss: 28.2625 - val_mae: 3.7502\n",
      "Epoch 38/100\n",
      "\u001b[1m404/404\u001b[0m \u001b[32m━━━━━━━━━━━━━━━━━━━━\u001b[0m\u001b[37m\u001b[0m \u001b[1m1s\u001b[0m 3ms/step - loss: 21.4874 - mae: 3.1768 - val_loss: 31.5394 - val_mae: 3.9660\n",
      "Epoch 39/100\n",
      "\u001b[1m404/404\u001b[0m \u001b[32m━━━━━━━━━━━━━━━━━━━━\u001b[0m\u001b[37m\u001b[0m \u001b[1m1s\u001b[0m 3ms/step - loss: 17.5277 - mae: 3.0723 - val_loss: 34.3562 - val_mae: 4.0309\n",
      "Epoch 40/100\n",
      "\u001b[1m404/404\u001b[0m \u001b[32m━━━━━━━━━━━━━━━━━━━━\u001b[0m\u001b[37m\u001b[0m \u001b[1m1s\u001b[0m 3ms/step - loss: 17.7250 - mae: 3.0342 - val_loss: 35.0180 - val_mae: 4.2411\n",
      "Epoch 41/100\n",
      "\u001b[1m404/404\u001b[0m \u001b[32m━━━━━━━━━━━━━━━━━━━━\u001b[0m\u001b[37m\u001b[0m \u001b[1m1s\u001b[0m 3ms/step - loss: 17.2344 - mae: 3.1282 - val_loss: 33.0231 - val_mae: 4.0520\n",
      "Epoch 42/100\n",
      "\u001b[1m404/404\u001b[0m \u001b[32m━━━━━━━━━━━━━━━━━━━━\u001b[0m\u001b[37m\u001b[0m \u001b[1m1s\u001b[0m 3ms/step - loss: 18.1402 - mae: 2.9702 - val_loss: 28.0921 - val_mae: 3.7564\n",
      "Epoch 43/100\n",
      "\u001b[1m404/404\u001b[0m \u001b[32m━━━━━━━━━━━━━━━━━━━━\u001b[0m\u001b[37m\u001b[0m \u001b[1m1s\u001b[0m 3ms/step - loss: 19.6643 - mae: 3.0640 - val_loss: 29.9952 - val_mae: 3.7666\n",
      "Epoch 44/100\n",
      "\u001b[1m404/404\u001b[0m \u001b[32m━━━━━━━━━━━━━━━━━━━━\u001b[0m\u001b[37m\u001b[0m \u001b[1m1s\u001b[0m 3ms/step - loss: 23.1510 - mae: 3.3027 - val_loss: 29.0307 - val_mae: 3.8701\n",
      "Epoch 45/100\n",
      "\u001b[1m404/404\u001b[0m \u001b[32m━━━━━━━━━━━━━━━━━━━━\u001b[0m\u001b[37m\u001b[0m \u001b[1m1s\u001b[0m 3ms/step - loss: 19.4256 - mae: 3.0613 - val_loss: 35.9157 - val_mae: 4.2591\n",
      "Epoch 46/100\n",
      "\u001b[1m404/404\u001b[0m \u001b[32m━━━━━━━━━━━━━━━━━━━━\u001b[0m\u001b[37m\u001b[0m \u001b[1m1s\u001b[0m 3ms/step - loss: 20.4773 - mae: 3.3379 - val_loss: 27.3086 - val_mae: 3.6832\n",
      "Epoch 47/100\n",
      "\u001b[1m404/404\u001b[0m \u001b[32m━━━━━━━━━━━━━━━━━━━━\u001b[0m\u001b[37m\u001b[0m \u001b[1m1s\u001b[0m 3ms/step - loss: 20.5089 - mae: 3.3977 - val_loss: 34.0997 - val_mae: 4.1490\n",
      "Epoch 48/100\n",
      "\u001b[1m404/404\u001b[0m \u001b[32m━━━━━━━━━━━━━━━━━━━━\u001b[0m\u001b[37m\u001b[0m \u001b[1m1s\u001b[0m 3ms/step - loss: 17.4530 - mae: 3.0839 - val_loss: 34.9185 - val_mae: 4.1115\n",
      "Epoch 49/100\n",
      "\u001b[1m404/404\u001b[0m \u001b[32m━━━━━━━━━━━━━━━━━━━━\u001b[0m\u001b[37m\u001b[0m \u001b[1m1s\u001b[0m 3ms/step - loss: 19.0423 - mae: 3.2235 - val_loss: 35.0162 - val_mae: 4.1424\n",
      "Epoch 50/100\n",
      "\u001b[1m404/404\u001b[0m \u001b[32m━━━━━━━━━━━━━━━━━━━━\u001b[0m\u001b[37m\u001b[0m \u001b[1m1s\u001b[0m 3ms/step - loss: 19.4440 - mae: 3.1919 - val_loss: 28.1733 - val_mae: 3.9574\n",
      "Epoch 51/100\n",
      "\u001b[1m404/404\u001b[0m \u001b[32m━━━━━━━━━━━━━━━━━━━━\u001b[0m\u001b[37m\u001b[0m \u001b[1m1s\u001b[0m 3ms/step - loss: 15.4425 - mae: 2.9717 - val_loss: 29.5373 - val_mae: 3.7577\n",
      "Epoch 52/100\n",
      "\u001b[1m404/404\u001b[0m \u001b[32m━━━━━━━━━━━━━━━━━━━━\u001b[0m\u001b[37m\u001b[0m \u001b[1m1s\u001b[0m 3ms/step - loss: 16.5371 - mae: 2.9892 - val_loss: 28.4836 - val_mae: 3.6226\n",
      "Epoch 53/100\n",
      "\u001b[1m404/404\u001b[0m \u001b[32m━━━━━━━━━━━━━━━━━━━━\u001b[0m\u001b[37m\u001b[0m \u001b[1m1s\u001b[0m 3ms/step - loss: 14.3185 - mae: 2.6814 - val_loss: 32.9030 - val_mae: 4.0017\n",
      "Epoch 54/100\n",
      "\u001b[1m404/404\u001b[0m \u001b[32m━━━━━━━━━━━━━━━━━━━━\u001b[0m\u001b[37m\u001b[0m \u001b[1m1s\u001b[0m 3ms/step - loss: 17.4080 - mae: 3.0221 - val_loss: 27.7190 - val_mae: 3.6421\n",
      "Epoch 55/100\n",
      "\u001b[1m404/404\u001b[0m \u001b[32m━━━━━━━━━━━━━━━━━━━━\u001b[0m\u001b[37m\u001b[0m \u001b[1m1s\u001b[0m 3ms/step - loss: 17.4983 - mae: 3.0842 - val_loss: 31.7171 - val_mae: 3.8401\n",
      "Epoch 56/100\n",
      "\u001b[1m404/404\u001b[0m \u001b[32m━━━━━━━━━━━━━━━━━━━━\u001b[0m\u001b[37m\u001b[0m \u001b[1m3s\u001b[0m 3ms/step - loss: 17.7885 - mae: 3.0627 - val_loss: 35.4261 - val_mae: 4.1480\n",
      "Epoch 57/100\n",
      "\u001b[1m404/404\u001b[0m \u001b[32m━━━━━━━━━━━━━━━━━━━━\u001b[0m\u001b[37m\u001b[0m \u001b[1m1s\u001b[0m 2ms/step - loss: 16.8940 - mae: 2.9779 - val_loss: 29.1163 - val_mae: 3.6534\n",
      "Epoch 58/100\n",
      "\u001b[1m404/404\u001b[0m \u001b[32m━━━━━━━━━━━━━━━━━━━━\u001b[0m\u001b[37m\u001b[0m \u001b[1m1s\u001b[0m 3ms/step - loss: 15.1991 - mae: 2.8623 - val_loss: 34.2152 - val_mae: 3.9941\n",
      "Epoch 59/100\n",
      "\u001b[1m404/404\u001b[0m \u001b[32m━━━━━━━━━━━━━━━━━━━━\u001b[0m\u001b[37m\u001b[0m \u001b[1m1s\u001b[0m 3ms/step - loss: 11.3131 - mae: 2.4996 - val_loss: 43.0479 - val_mae: 4.7306\n",
      "Epoch 60/100\n",
      "\u001b[1m404/404\u001b[0m \u001b[32m━━━━━━━━━━━━━━━━━━━━\u001b[0m\u001b[37m\u001b[0m \u001b[1m1s\u001b[0m 3ms/step - loss: 16.4165 - mae: 3.0560 - val_loss: 29.5520 - val_mae: 3.7277\n",
      "Epoch 61/100\n",
      "\u001b[1m404/404\u001b[0m \u001b[32m━━━━━━━━━━━━━━━━━━━━\u001b[0m\u001b[37m\u001b[0m \u001b[1m1s\u001b[0m 3ms/step - loss: 17.2579 - mae: 3.0614 - val_loss: 29.4750 - val_mae: 3.6894\n",
      "Epoch 62/100\n",
      "\u001b[1m404/404\u001b[0m \u001b[32m━━━━━━━━━━━━━━━━━━━━\u001b[0m\u001b[37m\u001b[0m \u001b[1m1s\u001b[0m 3ms/step - loss: 17.1153 - mae: 3.1199 - val_loss: 29.9169 - val_mae: 3.8805\n",
      "Epoch 63/100\n",
      "\u001b[1m404/404\u001b[0m \u001b[32m━━━━━━━━━━━━━━━━━━━━\u001b[0m\u001b[37m\u001b[0m \u001b[1m1s\u001b[0m 3ms/step - loss: 20.9239 - mae: 3.0817 - val_loss: 26.3496 - val_mae: 3.6999\n",
      "Epoch 64/100\n",
      "\u001b[1m404/404\u001b[0m \u001b[32m━━━━━━━━━━━━━━━━━━━━\u001b[0m\u001b[37m\u001b[0m \u001b[1m3s\u001b[0m 3ms/step - loss: 16.1619 - mae: 2.8801 - val_loss: 29.8415 - val_mae: 3.7377\n",
      "Epoch 65/100\n",
      "\u001b[1m404/404\u001b[0m \u001b[32m━━━━━━━━━━━━━━━━━━━━\u001b[0m\u001b[37m\u001b[0m \u001b[1m1s\u001b[0m 3ms/step - loss: 15.3152 - mae: 2.9701 - val_loss: 31.9158 - val_mae: 3.7502\n",
      "Epoch 66/100\n",
      "\u001b[1m404/404\u001b[0m \u001b[32m━━━━━━━━━━━━━━━━━━━━\u001b[0m\u001b[37m\u001b[0m \u001b[1m1s\u001b[0m 3ms/step - loss: 12.9473 - mae: 2.7331 - val_loss: 33.4359 - val_mae: 3.9806\n",
      "Epoch 67/100\n",
      "\u001b[1m404/404\u001b[0m \u001b[32m━━━━━━━━━━━━━━━━━━━━\u001b[0m\u001b[37m\u001b[0m \u001b[1m1s\u001b[0m 3ms/step - loss: 15.8381 - mae: 2.9175 - val_loss: 48.7208 - val_mae: 5.1164\n",
      "Epoch 68/100\n",
      "\u001b[1m404/404\u001b[0m \u001b[32m━━━━━━━━━━━━━━━━━━━━\u001b[0m\u001b[37m\u001b[0m \u001b[1m1s\u001b[0m 3ms/step - loss: 17.3513 - mae: 2.9026 - val_loss: 27.8418 - val_mae: 3.6496\n",
      "Epoch 69/100\n",
      "\u001b[1m404/404\u001b[0m \u001b[32m━━━━━━━━━━━━━━━━━━━━\u001b[0m\u001b[37m\u001b[0m \u001b[1m1s\u001b[0m 3ms/step - loss: 15.2491 - mae: 2.8989 - val_loss: 28.1525 - val_mae: 3.6105\n",
      "Epoch 70/100\n",
      "\u001b[1m404/404\u001b[0m \u001b[32m━━━━━━━━━━━━━━━━━━━━\u001b[0m\u001b[37m\u001b[0m \u001b[1m1s\u001b[0m 2ms/step - loss: 13.5802 - mae: 2.7905 - val_loss: 29.2504 - val_mae: 3.6998\n",
      "Epoch 71/100\n",
      "\u001b[1m404/404\u001b[0m \u001b[32m━━━━━━━━━━━━━━━━━━━━\u001b[0m\u001b[37m\u001b[0m \u001b[1m1s\u001b[0m 3ms/step - loss: 12.8218 - mae: 2.6711 - val_loss: 26.7273 - val_mae: 3.6152\n",
      "Epoch 72/100\n",
      "\u001b[1m404/404\u001b[0m \u001b[32m━━━━━━━━━━━━━━━━━━━━\u001b[0m\u001b[37m\u001b[0m \u001b[1m1s\u001b[0m 3ms/step - loss: 15.0569 - mae: 2.7055 - val_loss: 27.7587 - val_mae: 3.6125\n",
      "Epoch 73/100\n",
      "\u001b[1m404/404\u001b[0m \u001b[32m━━━━━━━━━━━━━━━━━━━━\u001b[0m\u001b[37m\u001b[0m \u001b[1m1s\u001b[0m 3ms/step - loss: 15.2947 - mae: 2.7365 - val_loss: 35.7447 - val_mae: 3.9869\n",
      "Epoch 74/100\n",
      "\u001b[1m404/404\u001b[0m \u001b[32m━━━━━━━━━━━━━━━━━━━━\u001b[0m\u001b[37m\u001b[0m \u001b[1m1s\u001b[0m 3ms/step - loss: 18.2154 - mae: 3.1090 - val_loss: 29.7102 - val_mae: 4.0766\n",
      "Epoch 75/100\n",
      "\u001b[1m404/404\u001b[0m \u001b[32m━━━━━━━━━━━━━━━━━━━━\u001b[0m\u001b[37m\u001b[0m \u001b[1m1s\u001b[0m 3ms/step - loss: 13.7694 - mae: 2.7736 - val_loss: 45.9636 - val_mae: 4.7878\n",
      "Epoch 76/100\n",
      "\u001b[1m404/404\u001b[0m \u001b[32m━━━━━━━━━━━━━━━━━━━━\u001b[0m\u001b[37m\u001b[0m \u001b[1m1s\u001b[0m 3ms/step - loss: 16.4646 - mae: 2.9326 - val_loss: 29.3442 - val_mae: 3.7709\n",
      "Epoch 77/100\n",
      "\u001b[1m404/404\u001b[0m \u001b[32m━━━━━━━━━━━━━━━━━━━━\u001b[0m\u001b[37m\u001b[0m \u001b[1m1s\u001b[0m 3ms/step - loss: 20.5719 - mae: 3.3679 - val_loss: 28.7578 - val_mae: 3.6615\n",
      "Epoch 78/100\n",
      "\u001b[1m404/404\u001b[0m \u001b[32m━━━━━━━━━━━━━━━━━━━━\u001b[0m\u001b[37m\u001b[0m \u001b[1m2s\u001b[0m 2ms/step - loss: 13.2573 - mae: 2.7763 - val_loss: 39.0756 - val_mae: 4.4326\n",
      "Epoch 79/100\n",
      "\u001b[1m404/404\u001b[0m \u001b[32m━━━━━━━━━━━━━━━━━━━━\u001b[0m\u001b[37m\u001b[0m \u001b[1m1s\u001b[0m 3ms/step - loss: 19.5683 - mae: 3.1331 - val_loss: 26.2845 - val_mae: 3.5433\n",
      "Epoch 80/100\n",
      "\u001b[1m404/404\u001b[0m \u001b[32m━━━━━━━━━━━━━━━━━━━━\u001b[0m\u001b[37m\u001b[0m \u001b[1m1s\u001b[0m 3ms/step - loss: 15.9254 - mae: 2.9090 - val_loss: 30.8317 - val_mae: 3.7442\n",
      "Epoch 81/100\n",
      "\u001b[1m404/404\u001b[0m \u001b[32m━━━━━━━━━━━━━━━━━━━━\u001b[0m\u001b[37m\u001b[0m \u001b[1m1s\u001b[0m 3ms/step - loss: 13.6320 - mae: 2.6303 - val_loss: 33.5196 - val_mae: 3.9768\n",
      "Epoch 82/100\n",
      "\u001b[1m404/404\u001b[0m \u001b[32m━━━━━━━━━━━━━━━━━━━━\u001b[0m\u001b[37m\u001b[0m \u001b[1m1s\u001b[0m 3ms/step - loss: 16.0291 - mae: 2.9714 - val_loss: 26.9240 - val_mae: 3.6699\n",
      "Epoch 83/100\n",
      "\u001b[1m404/404\u001b[0m \u001b[32m━━━━━━━━━━━━━━━━━━━━\u001b[0m\u001b[37m\u001b[0m \u001b[1m2s\u001b[0m 4ms/step - loss: 12.2138 - mae: 2.5275 - val_loss: 31.3543 - val_mae: 3.9658\n",
      "Epoch 84/100\n",
      "\u001b[1m404/404\u001b[0m \u001b[32m━━━━━━━━━━━━━━━━━━━━\u001b[0m\u001b[37m\u001b[0m \u001b[1m1s\u001b[0m 3ms/step - loss: 16.1871 - mae: 2.9010 - val_loss: 31.8229 - val_mae: 3.8294\n",
      "Epoch 85/100\n",
      "\u001b[1m404/404\u001b[0m \u001b[32m━━━━━━━━━━━━━━━━━━━━\u001b[0m\u001b[37m\u001b[0m \u001b[1m2s\u001b[0m 3ms/step - loss: 12.2616 - mae: 2.5700 - val_loss: 33.2685 - val_mae: 4.0429\n",
      "Epoch 86/100\n",
      "\u001b[1m404/404\u001b[0m \u001b[32m━━━━━━━━━━━━━━━━━━━━\u001b[0m\u001b[37m\u001b[0m \u001b[1m1s\u001b[0m 3ms/step - loss: 17.7250 - mae: 2.8841 - val_loss: 33.7662 - val_mae: 3.9661\n",
      "Epoch 87/100\n",
      "\u001b[1m404/404\u001b[0m \u001b[32m━━━━━━━━━━━━━━━━━━━━\u001b[0m\u001b[37m\u001b[0m \u001b[1m1s\u001b[0m 3ms/step - loss: 14.6388 - mae: 2.8212 - val_loss: 26.8537 - val_mae: 3.4736\n",
      "Epoch 88/100\n",
      "\u001b[1m404/404\u001b[0m \u001b[32m━━━━━━━━━━━━━━━━━━━━\u001b[0m\u001b[37m\u001b[0m \u001b[1m1s\u001b[0m 3ms/step - loss: 13.7325 - mae: 2.7887 - val_loss: 32.0514 - val_mae: 3.7428\n",
      "Epoch 89/100\n",
      "\u001b[1m404/404\u001b[0m \u001b[32m━━━━━━━━━━━━━━━━━━━━\u001b[0m\u001b[37m\u001b[0m \u001b[1m2s\u001b[0m 4ms/step - loss: 12.3148 - mae: 2.5129 - val_loss: 27.8813 - val_mae: 3.7035\n",
      "Epoch 90/100\n",
      "\u001b[1m404/404\u001b[0m \u001b[32m━━━━━━━━━━━━━━━━━━━━\u001b[0m\u001b[37m\u001b[0m \u001b[1m1s\u001b[0m 3ms/step - loss: 15.5502 - mae: 2.7666 - val_loss: 29.3113 - val_mae: 3.8416\n",
      "Epoch 91/100\n",
      "\u001b[1m404/404\u001b[0m \u001b[32m━━━━━━━━━━━━━━━━━━━━\u001b[0m\u001b[37m\u001b[0m \u001b[1m1s\u001b[0m 2ms/step - loss: 15.8500 - mae: 2.8759 - val_loss: 26.8094 - val_mae: 3.6853\n",
      "Epoch 92/100\n",
      "\u001b[1m404/404\u001b[0m \u001b[32m━━━━━━━━━━━━━━━━━━━━\u001b[0m\u001b[37m\u001b[0m \u001b[1m1s\u001b[0m 3ms/step - loss: 16.6008 - mae: 3.0341 - val_loss: 27.9201 - val_mae: 3.5607\n",
      "Epoch 93/100\n",
      "\u001b[1m404/404\u001b[0m \u001b[32m━━━━━━━━━━━━━━━━━━━━\u001b[0m\u001b[37m\u001b[0m \u001b[1m1s\u001b[0m 2ms/step - loss: 14.1139 - mae: 2.7525 - val_loss: 29.7409 - val_mae: 3.5947\n",
      "Epoch 94/100\n",
      "\u001b[1m404/404\u001b[0m \u001b[32m━━━━━━━━━━━━━━━━━━━━\u001b[0m\u001b[37m\u001b[0m \u001b[1m1s\u001b[0m 3ms/step - loss: 15.5532 - mae: 2.8615 - val_loss: 31.5165 - val_mae: 3.9769\n",
      "Epoch 95/100\n",
      "\u001b[1m404/404\u001b[0m \u001b[32m━━━━━━━━━━━━━━━━━━━━\u001b[0m\u001b[37m\u001b[0m \u001b[1m1s\u001b[0m 3ms/step - loss: 11.4046 - mae: 2.5397 - val_loss: 34.4353 - val_mae: 4.2327\n",
      "Epoch 96/100\n",
      "\u001b[1m404/404\u001b[0m \u001b[32m━━━━━━━━━━━━━━━━━━━━\u001b[0m\u001b[37m\u001b[0m \u001b[1m1s\u001b[0m 3ms/step - loss: 13.3996 - mae: 2.6689 - val_loss: 31.9969 - val_mae: 3.8855\n",
      "Epoch 97/100\n",
      "\u001b[1m404/404\u001b[0m \u001b[32m━━━━━━━━━━━━━━━━━━━━\u001b[0m\u001b[37m\u001b[0m \u001b[1m1s\u001b[0m 3ms/step - loss: 12.2456 - mae: 2.6128 - val_loss: 34.0074 - val_mae: 3.8539\n",
      "Epoch 98/100\n",
      "\u001b[1m404/404\u001b[0m \u001b[32m━━━━━━━━━━━━━━━━━━━━\u001b[0m\u001b[37m\u001b[0m \u001b[1m1s\u001b[0m 3ms/step - loss: 16.2722 - mae: 2.8218 - val_loss: 26.6965 - val_mae: 3.4514\n",
      "Epoch 99/100\n",
      "\u001b[1m404/404\u001b[0m \u001b[32m━━━━━━━━━━━━━━━━━━━━\u001b[0m\u001b[37m\u001b[0m \u001b[1m1s\u001b[0m 3ms/step - loss: 13.5867 - mae: 2.5803 - val_loss: 29.0920 - val_mae: 3.5421\n",
      "Epoch 100/100\n",
      "\u001b[1m404/404\u001b[0m \u001b[32m━━━━━━━━━━━━━━━━━━━━\u001b[0m\u001b[37m\u001b[0m \u001b[1m1s\u001b[0m 3ms/step - loss: 17.3701 - mae: 3.0837 - val_loss: 27.3631 - val_mae: 3.4791\n"
     ]
    }
   ],
   "source": [
    "model= HousePricePredictionModel()\n",
    "history=model.fit(x=train_x,y=train_y,epochs=num_epochs,batch_size=1,verbose=1,validation_data=(test_x,test_y))"
   ]
  },
  {
   "cell_type": "code",
   "execution_count": 22,
   "id": "ddfaa157",
   "metadata": {
    "colab": {
     "base_uri": "https://localhost:8080/"
    },
    "executionInfo": {
     "elapsed": 508,
     "status": "ok",
     "timestamp": 1685034841993,
     "user": {
      "displayName": "TE_B_52_Siddesh Patankar",
      "userId": "08734077620444832225"
     },
     "user_tz": -330
    },
    "id": "ddfaa157",
    "outputId": "12b80eb5-5bc6-41dd-af2b-04d17a578bad"
   },
   "outputs": [
    {
     "name": "stdout",
     "output_type": "stream",
     "text": [
      "\u001b[1m4/4\u001b[0m \u001b[32m━━━━━━━━━━━━━━━━━━━━\u001b[0m\u001b[37m\u001b[0m \u001b[1m0s\u001b[0m 4ms/step - loss: 22.8979 - mae: 3.2511 \n",
      "Mean squared error on test data:  27.363054275512695\n",
      "Mean absolute error on test data:  3.4790542125701904\n"
     ]
    }
   ],
   "source": [
    "mse, mae = model.evaluate(test_x, test_y)\n",
    "print('Mean squared error on test data: ', mse)\n",
    "print('Mean absolute error on test data: ', mae)"
   ]
  },
  {
   "cell_type": "code",
   "execution_count": null,
   "id": "2c35b267",
   "metadata": {
    "colab": {
     "background_save": true
    },
    "id": "2c35b267"
   },
   "outputs": [],
   "source": []
  },
  {
   "cell_type": "code",
   "execution_count": null,
   "id": "12ab9568",
   "metadata": {
    "colab": {
     "background_save": true
    },
    "id": "12ab9568"
   },
   "outputs": [],
   "source": []
  }
 ],
 "metadata": {
  "colab": {
   "provenance": []
  },
  "kernelspec": {
   "display_name": "Python 3 (ipykernel)",
   "language": "python",
   "name": "python3"
  },
  "language_info": {
   "codemirror_mode": {
    "name": "ipython",
    "version": 3
   },
   "file_extension": ".py",
   "mimetype": "text/x-python",
   "name": "python",
   "nbconvert_exporter": "python",
   "pygments_lexer": "ipython3",
   "version": "3.11.1"
  }
 },
 "nbformat": 4,
 "nbformat_minor": 5
}
